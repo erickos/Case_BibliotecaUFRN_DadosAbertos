{
  "nbformat": 4,
  "nbformat_minor": 0,
  "metadata": {
    "colab": {
      "name": "TrabalhoFinal_IA",
      "version": "0.3.2",
      "provenance": [],
      "collapsed_sections": [
        "aKpKCjbTVL-t"
      ],
      "toc_visible": true
    },
    "kernelspec": {
      "name": "python3",
      "display_name": "Python 3"
    },
    "accelerator": "GPU"
  },
  "cells": [
    {
      "metadata": {
        "id": "aKpKCjbTVL-t",
        "colab_type": "text"
      },
      "cell_type": "markdown",
      "source": [
        "# 1.0 Descrevendo a base de dados\n",
        "\n",
        "Neste notebook irão ser analisados dados referentes ao acervo e exemplares disponibilizados por todas as bibliotecas da UFRN. \n",
        "\n",
        "Todos os dados utilizados, foram disponibilizados atráves do **Portal de Dados Abertos da UFRN**: \n",
        "\n",
        "<img src=\"http://dados.ufrn.br/base/images/logo-dados-abertos-ufrn.png\">\n",
        "\n",
        "O Portal de Dados Abertos da Universidade Federal do Rio Grande do Norte - UFRN é uma ferramenta cujo objetivo principal é disponibilizar para toda a comunidade dados e informações públicas da Instituição, possibilitando a concretização do acesso à informação (regulamentado pela Lei de Acesso à Informação Pública - Lei nº 12.527/2011) e o acompanhamento do funcionamento da Universidade.\n",
        "\n",
        "Os dados disponibilizados no Portal podem ser acessados por toda a população, além de utilizados para o desenvolvimento de aplicativos e ações realizadas pela própria Universidade e por outros órgãos públicos ou privados.\n",
        "\n",
        "Para a realização dessa análise foram necessários os **datasets** de Acervo da Biblioteca, Exemplares disponíveis e os **datasets** referentes aos empréstimos entre os períodos de 2014.1 à 2017.2 (exceto 2016.1 devido à indisponibilidade do mesmo)."
      ]
    },
    {
      "metadata": {
        "id": "IbVl8nANVgjo",
        "colab_type": "text"
      },
      "cell_type": "markdown",
      "source": [
        "# 2.0 Importando os dados\n",
        "\n",
        "Nesta seção iremos importar os dados diretamente do Portal de Dados, sem a necessidade de upload ou download por meio de uma máquina local."
      ]
    },
    {
      "metadata": {
        "id": "ros9bSldFJPw",
        "colab_type": "text"
      },
      "cell_type": "markdown",
      "source": [
        "## 2.1 Dados sobre o acervo"
      ]
    },
    {
      "metadata": {
        "id": "BCPV0vdUUpjI",
        "colab_type": "code",
        "outputId": "d8747b10-6150-4e58-adb8-d50a5274749c",
        "colab": {
          "base_uri": "https://localhost:8080/",
          "height": 289
        }
      },
      "cell_type": "code",
      "source": [
        "import pandas as pd\n",
        "import numpy as np\n",
        "import matplotlib.pyplot as plt\n",
        "from collections import OrderedDict\n",
        "\n",
        "acervo_df = pd.read_csv( 'http://dados.ufrn.br/dataset/06641eab-7f73-46a4-85b7-181ab55dcae0/resource/db444528-9d13-470f-a14e-e495bd886993/download/exemplares-acervo.csv', sep=';' )\n",
        "\n",
        "# Corrigindo problemas nos títulos dos livros\n",
        "acervo_df['novo_titulo'] = acervo_df['titulo'].fillna('').str.replace('/','').str.lstrip().str.rstrip() + acervo_df['sub_titulo'].fillna('').str.replace('/','').str.rstrip()\n",
        "\n",
        "# corrigindo erros nos anos do livros\n",
        "acervo_df['ano'] = acervo_df['ano'].str.replace('.', '').str.replace('c','').str.replace('[','').str.replace(']', '').str.replace('?','')\n",
        "acervo_df['ano'] = pd.to_numeric(acervo_df['ano'], errors='coerce', downcast='integer')\n",
        "acervo_df = acervo_df.dropna(axis=0, subset=['ano'])\n",
        "acervo_df['ano'] = acervo_df['ano'].astype(int)\n",
        "\n",
        "# Cria-se uma coluna com o titulo completo e exclui as duas colunas antigas\n",
        "acervo_df = acervo_df.drop(columns = ['titulo', 'sub_titulo'])\n",
        "acervo_df.info()"
      ],
      "execution_count": 1,
      "outputs": [
        {
          "output_type": "stream",
          "text": [
            "<class 'pandas.core.frame.DataFrame'>\n",
            "Int64Index: 195294 entries, 0 to 209541\n",
            "Data columns (total 11 columns):\n",
            "registro_sistema    195294 non-null int64\n",
            "assunto             194355 non-null object\n",
            "autor               162339 non-null object\n",
            "tipo_material       195294 non-null object\n",
            "quantidade          195294 non-null int64\n",
            "ano                 195294 non-null int64\n",
            "edicao              57231 non-null object\n",
            "editora             177345 non-null object\n",
            "isbn                100664 non-null object\n",
            "issn                82 non-null object\n",
            "novo_titulo         195294 non-null object\n",
            "dtypes: int64(3), object(8)\n",
            "memory usage: 17.9+ MB\n"
          ],
          "name": "stdout"
        }
      ]
    },
    {
      "metadata": {
        "id": "DMuySPfl8xo3",
        "colab_type": "code",
        "colab": {
          "base_uri": "https://localhost:8080/",
          "height": 411
        },
        "outputId": "43706ac8-9f11-46dd-bdb7-9c8be8fe2e9d"
      },
      "cell_type": "code",
      "source": [
        "acervo_df.head(5)"
      ],
      "execution_count": 4,
      "outputs": [
        {
          "output_type": "execute_result",
          "data": {
            "text/html": [
              "<div>\n",
              "<style scoped>\n",
              "    .dataframe tbody tr th:only-of-type {\n",
              "        vertical-align: middle;\n",
              "    }\n",
              "\n",
              "    .dataframe tbody tr th {\n",
              "        vertical-align: top;\n",
              "    }\n",
              "\n",
              "    .dataframe thead th {\n",
              "        text-align: right;\n",
              "    }\n",
              "</style>\n",
              "<table border=\"1\" class=\"dataframe\">\n",
              "  <thead>\n",
              "    <tr style=\"text-align: right;\">\n",
              "      <th></th>\n",
              "      <th>registro_sistema</th>\n",
              "      <th>assunto</th>\n",
              "      <th>autor</th>\n",
              "      <th>tipo_material</th>\n",
              "      <th>quantidade</th>\n",
              "      <th>ano</th>\n",
              "      <th>edicao</th>\n",
              "      <th>editora</th>\n",
              "      <th>isbn</th>\n",
              "      <th>issn</th>\n",
              "      <th>novo_titulo</th>\n",
              "    </tr>\n",
              "  </thead>\n",
              "  <tbody>\n",
              "    <tr>\n",
              "      <th>0</th>\n",
              "      <td>1</td>\n",
              "      <td>Política social -#$&amp;Região Nordeste (Br)#$&amp;Soc...</td>\n",
              "      <td>Ação Católica Operária, Recife.</td>\n",
              "      <td>Livro</td>\n",
              "      <td>3</td>\n",
              "      <td>1967</td>\n",
              "      <td>NaN</td>\n",
              "      <td>NaN</td>\n",
              "      <td>NaN</td>\n",
              "      <td>NaN</td>\n",
              "      <td>Nordeste: desenvolvimento sem justica</td>\n",
              "    </tr>\n",
              "    <tr>\n",
              "      <th>1</th>\n",
              "      <td>5</td>\n",
              "      <td>Psicologia</td>\n",
              "      <td>Adcock, C. J.</td>\n",
              "      <td>Livro</td>\n",
              "      <td>1</td>\n",
              "      <td>1965</td>\n",
              "      <td>NaN</td>\n",
              "      <td>Zahar,</td>\n",
              "      <td>NaN</td>\n",
              "      <td>NaN</td>\n",
              "      <td>Manual de Psicologia</td>\n",
              "    </tr>\n",
              "    <tr>\n",
              "      <th>2</th>\n",
              "      <td>14</td>\n",
              "      <td>Estatistica -#$&amp;Estados Unidos.#$&amp;Estatística.</td>\n",
              "      <td>Bureau Of Census.</td>\n",
              "      <td>Livro</td>\n",
              "      <td>1</td>\n",
              "      <td>1959</td>\n",
              "      <td>NaN</td>\n",
              "      <td>s.n.],</td>\n",
              "      <td>NaN</td>\n",
              "      <td>NaN</td>\n",
              "      <td>Statistical Abstract Of The United States</td>\n",
              "    </tr>\n",
              "    <tr>\n",
              "      <th>3</th>\n",
              "      <td>15</td>\n",
              "      <td>Psicanálise (Psicologia).#$&amp;Psicologia.</td>\n",
              "      <td>Andrade, Almir de.</td>\n",
              "      <td>Livro</td>\n",
              "      <td>1</td>\n",
              "      <td>1933</td>\n",
              "      <td>NaN</td>\n",
              "      <td>Schmidt,</td>\n",
              "      <td>NaN</td>\n",
              "      <td>NaN</td>\n",
              "      <td>Verdade contra Freud</td>\n",
              "    </tr>\n",
              "    <tr>\n",
              "      <th>4</th>\n",
              "      <td>16</td>\n",
              "      <td>Uniao Soviética -#$&amp;História -#$&amp;URSS.#$&amp;1917-...</td>\n",
              "      <td>Academia de Ciências de La U.R.S.S.</td>\n",
              "      <td>Livro</td>\n",
              "      <td>1</td>\n",
              "      <td>1958</td>\n",
              "      <td>NaN</td>\n",
              "      <td>Editorial Grijalbo,</td>\n",
              "      <td>NaN</td>\n",
              "      <td>NaN</td>\n",
              "      <td>História de La Urss :época del socialismo(1917...</td>\n",
              "    </tr>\n",
              "  </tbody>\n",
              "</table>\n",
              "</div>"
            ],
            "text/plain": [
              "   registro_sistema                                            assunto  \\\n",
              "0                 1  Política social -#$&Região Nordeste (Br)#$&Soc...   \n",
              "1                 5                                         Psicologia   \n",
              "2                14     Estatistica -#$&Estados Unidos.#$&Estatística.   \n",
              "3                15            Psicanálise (Psicologia).#$&Psicologia.   \n",
              "4                16  Uniao Soviética -#$&História -#$&URSS.#$&1917-...   \n",
              "\n",
              "                                 autor tipo_material  quantidade   ano edicao  \\\n",
              "0      Ação Católica Operária, Recife.         Livro           3  1967    NaN   \n",
              "1                        Adcock, C. J.         Livro           1  1965    NaN   \n",
              "2                    Bureau Of Census.         Livro           1  1959    NaN   \n",
              "3                   Andrade, Almir de.         Livro           1  1933    NaN   \n",
              "4  Academia de Ciências de La U.R.S.S.         Livro           1  1958    NaN   \n",
              "\n",
              "               editora isbn issn  \\\n",
              "0                  NaN  NaN  NaN   \n",
              "1               Zahar,  NaN  NaN   \n",
              "2               s.n.],  NaN  NaN   \n",
              "3             Schmidt,  NaN  NaN   \n",
              "4  Editorial Grijalbo,  NaN  NaN   \n",
              "\n",
              "                                         novo_titulo  \n",
              "0              Nordeste: desenvolvimento sem justica  \n",
              "1                               Manual de Psicologia  \n",
              "2          Statistical Abstract Of The United States  \n",
              "3                               Verdade contra Freud  \n",
              "4  História de La Urss :época del socialismo(1917...  "
            ]
          },
          "metadata": {
            "tags": []
          },
          "execution_count": 4
        }
      ]
    },
    {
      "metadata": {
        "id": "loFgTiiqSRUp",
        "colab_type": "text"
      },
      "cell_type": "markdown",
      "source": [
        "## 2.2 Dados sobre Exemplares"
      ]
    },
    {
      "metadata": {
        "id": "cCg1v0aHnRsl",
        "colab_type": "code",
        "outputId": "3bf5d1af-2ba0-4a65-d7ea-be12baf6a38f",
        "colab": {
          "base_uri": "https://localhost:8080/",
          "height": 221
        }
      },
      "cell_type": "code",
      "source": [
        "# exemplares\n",
        "exemplares = pd.read_csv('http://dados.ufrn.br/dataset/06641eab-7f73-46a4-85b7-181ab55dcae0/resource/e3d3e784-1349-4a8f-ad09-86e893328f9e/download/exemplares.csv', sep=';')\n",
        "exemplares.info()"
      ],
      "execution_count": 3,
      "outputs": [
        {
          "output_type": "stream",
          "text": [
            "<class 'pandas.core.frame.DataFrame'>\n",
            "RangeIndex: 543473 entries, 0 to 543472\n",
            "Data columns (total 7 columns):\n",
            "id_exemplar         543473 non-null int64\n",
            "codigo_barras       543473 non-null object\n",
            "colecao             543473 non-null object\n",
            "biblioteca          543473 non-null object\n",
            "status_material     543473 non-null object\n",
            "localizacao         543409 non-null object\n",
            "registro_sistema    543473 non-null int64\n",
            "dtypes: int64(2), object(5)\n",
            "memory usage: 29.0+ MB\n"
          ],
          "name": "stdout"
        }
      ]
    },
    {
      "metadata": {
        "id": "bs7ehGgi-5BS",
        "colab_type": "code",
        "colab": {
          "base_uri": "https://localhost:8080/",
          "height": 289
        },
        "outputId": "3b6d19a5-7a9f-448f-9352-ea1efad1030b"
      },
      "cell_type": "code",
      "source": [
        "exemplares.head(5)"
      ],
      "execution_count": 5,
      "outputs": [
        {
          "output_type": "execute_result",
          "data": {
            "text/html": [
              "<div>\n",
              "<style scoped>\n",
              "    .dataframe tbody tr th:only-of-type {\n",
              "        vertical-align: middle;\n",
              "    }\n",
              "\n",
              "    .dataframe tbody tr th {\n",
              "        vertical-align: top;\n",
              "    }\n",
              "\n",
              "    .dataframe thead th {\n",
              "        text-align: right;\n",
              "    }\n",
              "</style>\n",
              "<table border=\"1\" class=\"dataframe\">\n",
              "  <thead>\n",
              "    <tr style=\"text-align: right;\">\n",
              "      <th></th>\n",
              "      <th>id_exemplar</th>\n",
              "      <th>codigo_barras</th>\n",
              "      <th>colecao</th>\n",
              "      <th>biblioteca</th>\n",
              "      <th>status_material</th>\n",
              "      <th>localizacao</th>\n",
              "      <th>registro_sistema</th>\n",
              "    </tr>\n",
              "  </thead>\n",
              "  <tbody>\n",
              "    <tr>\n",
              "      <th>0</th>\n",
              "      <td>3</td>\n",
              "      <td>L000001</td>\n",
              "      <td>Acervo Circulante</td>\n",
              "      <td>Biblioteca Central Zila Mamede</td>\n",
              "      <td>NÃO CIRCULA</td>\n",
              "      <td>304(812/814)  A168n</td>\n",
              "      <td>1</td>\n",
              "    </tr>\n",
              "    <tr>\n",
              "      <th>1</th>\n",
              "      <td>4</td>\n",
              "      <td>L000002</td>\n",
              "      <td>Acervo Circulante</td>\n",
              "      <td>Biblioteca Central Zila Mamede</td>\n",
              "      <td>REGULAR</td>\n",
              "      <td>304(812/814) A168n</td>\n",
              "      <td>1</td>\n",
              "    </tr>\n",
              "    <tr>\n",
              "      <th>2</th>\n",
              "      <td>5</td>\n",
              "      <td>L000003</td>\n",
              "      <td>Acervo Circulante</td>\n",
              "      <td>Biblioteca Central Zila Mamede</td>\n",
              "      <td>REGULAR</td>\n",
              "      <td>304(812/814)  A168n</td>\n",
              "      <td>1</td>\n",
              "    </tr>\n",
              "    <tr>\n",
              "      <th>3</th>\n",
              "      <td>7</td>\n",
              "      <td>L000114</td>\n",
              "      <td>Acervo Circulante</td>\n",
              "      <td>Biblioteca Central Zila Mamede</td>\n",
              "      <td>REGULAR</td>\n",
              "      <td>159.9 A228m</td>\n",
              "      <td>5</td>\n",
              "    </tr>\n",
              "    <tr>\n",
              "      <th>4</th>\n",
              "      <td>9</td>\n",
              "      <td>L000040</td>\n",
              "      <td>Acervo de Desbaste</td>\n",
              "      <td>Biblioteca Central Zila Mamede</td>\n",
              "      <td>ESPECIAL</td>\n",
              "      <td>317.3  B79s</td>\n",
              "      <td>14</td>\n",
              "    </tr>\n",
              "  </tbody>\n",
              "</table>\n",
              "</div>"
            ],
            "text/plain": [
              "   id_exemplar codigo_barras             colecao  \\\n",
              "0            3       L000001   Acervo Circulante   \n",
              "1            4       L000002   Acervo Circulante   \n",
              "2            5       L000003   Acervo Circulante   \n",
              "3            7       L000114   Acervo Circulante   \n",
              "4            9       L000040  Acervo de Desbaste   \n",
              "\n",
              "                       biblioteca status_material          localizacao  \\\n",
              "0  Biblioteca Central Zila Mamede     NÃO CIRCULA  304(812/814)  A168n   \n",
              "1  Biblioteca Central Zila Mamede         REGULAR   304(812/814) A168n   \n",
              "2  Biblioteca Central Zila Mamede         REGULAR  304(812/814)  A168n   \n",
              "3  Biblioteca Central Zila Mamede         REGULAR          159.9 A228m   \n",
              "4  Biblioteca Central Zila Mamede        ESPECIAL          317.3  B79s   \n",
              "\n",
              "   registro_sistema  \n",
              "0                 1  \n",
              "1                 1  \n",
              "2                 1  \n",
              "3                 5  \n",
              "4                14  "
            ]
          },
          "metadata": {
            "tags": []
          },
          "execution_count": 5
        }
      ]
    },
    {
      "metadata": {
        "id": "qhJrIEdMFQbE",
        "colab_type": "text"
      },
      "cell_type": "markdown",
      "source": [
        "## 2.3 Dados sobre os Emprestimos"
      ]
    },
    {
      "metadata": {
        "id": "oM2xGhnf5YhK",
        "colab_type": "code",
        "outputId": "24d18ce0-f770-4836-ba6b-346897cfe8a0",
        "colab": {
          "base_uri": "https://localhost:8080/",
          "height": 238
        }
      },
      "cell_type": "code",
      "source": [
        "# emprestimos  2017.2\n",
        "empres_2017_2 = pd.read_csv('http://dados.ufrn.br/dataset/1e596793-1ac3-4b59-9ae8-f053eda6b698/resource/79d668de-5d2a-4c1e-ad62-5f2933d36600/download/emprestimos-20172.csv', sep=';')\n",
        "empres_2017_2.info()"
      ],
      "execution_count": 6,
      "outputs": [
        {
          "output_type": "stream",
          "text": [
            "<class 'pandas.core.frame.DataFrame'>\n",
            "RangeIndex: 110326 entries, 0 to 110325\n",
            "Data columns (total 8 columns):\n",
            "id_emprestimo           110326 non-null int64\n",
            "codigo_barras           110326 non-null object\n",
            "data_renovacao          46490 non-null object\n",
            "data_emprestimo         110326 non-null object\n",
            "data_devolucao          110177 non-null object\n",
            "nome_usuario            110326 non-null object\n",
            "id_vinculo_usuario      110326 non-null int64\n",
            "tipo_vinculo_usuario    110326 non-null object\n",
            "dtypes: int64(2), object(6)\n",
            "memory usage: 6.7+ MB\n"
          ],
          "name": "stdout"
        }
      ]
    },
    {
      "metadata": {
        "id": "uunPJLqJAJ3k",
        "colab_type": "code",
        "outputId": "9253324e-7d24-4a94-a994-f4027e1b38b3",
        "colab": {
          "base_uri": "https://localhost:8080/",
          "height": 238
        }
      },
      "cell_type": "code",
      "source": [
        "# emprestimos 2017.1\n",
        "empres_2017_1 = pd.read_csv('http://dados.ufrn.br/dataset/1e596793-1ac3-4b59-9ae8-f053eda6b698/resource/54f56d6f-a5cc-41d9-88d6-4f4292fe26bc/download/emprestimos-20171.csv', sep=';')\n",
        "empres_2017_1.info()"
      ],
      "execution_count": 7,
      "outputs": [
        {
          "output_type": "stream",
          "text": [
            "<class 'pandas.core.frame.DataFrame'>\n",
            "RangeIndex: 118714 entries, 0 to 118713\n",
            "Data columns (total 8 columns):\n",
            "id_emprestimo           118714 non-null int64\n",
            "codigo_barras           118714 non-null object\n",
            "data_renovacao          51151 non-null object\n",
            "data_emprestimo         118714 non-null object\n",
            "data_devolucao          118659 non-null object\n",
            "nome_usuario            118714 non-null object\n",
            "id_vinculo_usuario      118714 non-null int64\n",
            "tipo_vinculo_usuario    118714 non-null object\n",
            "dtypes: int64(2), object(6)\n",
            "memory usage: 7.2+ MB\n"
          ],
          "name": "stdout"
        }
      ]
    },
    {
      "metadata": {
        "id": "UQg16J6GAp8-",
        "colab_type": "code",
        "outputId": "8cda8383-8eef-43dd-8d88-d93c2c6e6d3e",
        "colab": {
          "base_uri": "https://localhost:8080/",
          "height": 238
        }
      },
      "cell_type": "code",
      "source": [
        "# emprestimos 2016.2\n",
        "empres_2016_2 = pd.read_csv('http://dados.ufrn.br/dataset/1e596793-1ac3-4b59-9ae8-f053eda6b698/resource/04ed856a-c6bd-4c67-a08b-ad7f382dcd7e/download/emprestimos-20162.csv', sep=';')\n",
        "empres_2016_2.info()"
      ],
      "execution_count": 8,
      "outputs": [
        {
          "output_type": "stream",
          "text": [
            "<class 'pandas.core.frame.DataFrame'>\n",
            "RangeIndex: 107179 entries, 0 to 107178\n",
            "Data columns (total 8 columns):\n",
            "id_emprestimo           107179 non-null int64\n",
            "codigo_barras           107179 non-null object\n",
            "data_renovacao          47271 non-null object\n",
            "data_emprestimo         107179 non-null object\n",
            "data_devolucao          107155 non-null object\n",
            "nome_usuario            107179 non-null object\n",
            "id_vinculo_usuario      107179 non-null int64\n",
            "tipo_vinculo_usuario    107179 non-null object\n",
            "dtypes: int64(2), object(6)\n",
            "memory usage: 6.5+ MB\n"
          ],
          "name": "stdout"
        }
      ]
    },
    {
      "metadata": {
        "id": "3ORyuFAABIkT",
        "colab_type": "code",
        "colab": {}
      },
      "cell_type": "code",
      "source": [
        "# emprestimos 2016.1\n",
        " # pagina fora do ar\n",
        " # empres_2016_1 = pd.read_csv('link-dataset', sep=';')\n",
        " # empres_2016_1.info()"
      ],
      "execution_count": 0,
      "outputs": []
    },
    {
      "metadata": {
        "id": "QUxG4JyzBUF8",
        "colab_type": "code",
        "outputId": "06db2574-1b86-4917-e407-77328ed27d83",
        "colab": {
          "base_uri": "https://localhost:8080/",
          "height": 238
        }
      },
      "cell_type": "code",
      "source": [
        "# emprestimos 2015.2\n",
        "empres_2015_2 = pd.read_csv('http://dados.ufrn.br/dataset/1e596793-1ac3-4b59-9ae8-f053eda6b698/resource/f07e4501-8632-487f-adf0-116d5b6fb4fe/download/emprestimos-20152.csv', sep=';')\n",
        "empres_2015_2.info()"
      ],
      "execution_count": 9,
      "outputs": [
        {
          "output_type": "stream",
          "text": [
            "<class 'pandas.core.frame.DataFrame'>\n",
            "RangeIndex: 98115 entries, 0 to 98114\n",
            "Data columns (total 8 columns):\n",
            "id_emprestimo           98115 non-null int64\n",
            "codigo_barras           98115 non-null object\n",
            "data_renovacao          35803 non-null object\n",
            "data_emprestimo         98115 non-null object\n",
            "data_devolucao          98092 non-null object\n",
            "nome_usuario            98115 non-null object\n",
            "id_vinculo_usuario      98115 non-null int64\n",
            "tipo_vinculo_usuario    98115 non-null object\n",
            "dtypes: int64(2), object(6)\n",
            "memory usage: 6.0+ MB\n"
          ],
          "name": "stdout"
        }
      ]
    },
    {
      "metadata": {
        "id": "RJzVtRaZB5qb",
        "colab_type": "code",
        "outputId": "2fe92844-377c-4108-d3ca-ad0ef7ee7cc8",
        "colab": {
          "base_uri": "https://localhost:8080/",
          "height": 238
        }
      },
      "cell_type": "code",
      "source": [
        "# emprestimos 2015.1\n",
        "empres_2015_1 = pd.read_csv('http://dados.ufrn.br/dataset/1e596793-1ac3-4b59-9ae8-f053eda6b698/resource/2d18b7a9-b458-4668-8858-037c55049d40/download/emprestimos-20151.csv', sep=';')\n",
        "empres_2015_1.info()"
      ],
      "execution_count": 10,
      "outputs": [
        {
          "output_type": "stream",
          "text": [
            "<class 'pandas.core.frame.DataFrame'>\n",
            "RangeIndex: 126738 entries, 0 to 126737\n",
            "Data columns (total 8 columns):\n",
            "id_emprestimo           126738 non-null int64\n",
            "codigo_barras           126738 non-null object\n",
            "data_renovacao          53597 non-null object\n",
            "data_emprestimo         126738 non-null object\n",
            "data_devolucao          126709 non-null object\n",
            "nome_usuario            126738 non-null object\n",
            "id_vinculo_usuario      126738 non-null int64\n",
            "tipo_vinculo_usuario    126738 non-null object\n",
            "dtypes: int64(2), object(6)\n",
            "memory usage: 7.7+ MB\n"
          ],
          "name": "stdout"
        }
      ]
    },
    {
      "metadata": {
        "id": "DxQHZvojEHjV",
        "colab_type": "code",
        "outputId": "e0630809-32ed-41cd-81a4-4c4e82de63b1",
        "colab": {
          "base_uri": "https://localhost:8080/",
          "height": 238
        }
      },
      "cell_type": "code",
      "source": [
        "# emprestimos 2014.2\n",
        "empres_2014_2 = pd.read_csv('http://dados.ufrn.br/dataset/1e596793-1ac3-4b59-9ae8-f053eda6b698/resource/832df6b3-ccb0-4370-832b-193a2fe90085/download/emprestimos-20142.csv', sep=';')\n",
        "empres_2014_2.info()"
      ],
      "execution_count": 11,
      "outputs": [
        {
          "output_type": "stream",
          "text": [
            "<class 'pandas.core.frame.DataFrame'>\n",
            "RangeIndex: 122129 entries, 0 to 122128\n",
            "Data columns (total 8 columns):\n",
            "id_emprestimo           122129 non-null int64\n",
            "codigo_barras           122129 non-null object\n",
            "data_renovacao          51795 non-null object\n",
            "data_emprestimo         122129 non-null object\n",
            "data_devolucao          122107 non-null object\n",
            "nome_usuario            122129 non-null object\n",
            "id_vinculo_usuario      122129 non-null int64\n",
            "tipo_vinculo_usuario    122129 non-null object\n",
            "dtypes: int64(2), object(6)\n",
            "memory usage: 7.5+ MB\n"
          ],
          "name": "stdout"
        }
      ]
    },
    {
      "metadata": {
        "id": "eBRc98ytEZxG",
        "colab_type": "code",
        "outputId": "505b1bef-8aae-42d4-88cb-db6cb83cc51c",
        "colab": {
          "base_uri": "https://localhost:8080/",
          "height": 238
        }
      },
      "cell_type": "code",
      "source": [
        "# emprestimos 2014.1\n",
        "empres_2014_1 = pd.read_csv( 'http://dados.ufrn.br/dataset/1e596793-1ac3-4b59-9ae8-f053eda6b698/resource/8e97f632-a6fe-4349-b06b-f650e804a7b9/download/emprestimos-20141.csv', sep=';' )\n",
        "empres_2014_1.info()"
      ],
      "execution_count": 12,
      "outputs": [
        {
          "output_type": "stream",
          "text": [
            "<class 'pandas.core.frame.DataFrame'>\n",
            "RangeIndex: 113181 entries, 0 to 113180\n",
            "Data columns (total 8 columns):\n",
            "id_emprestimo           113181 non-null int64\n",
            "codigo_barras           113181 non-null object\n",
            "data_renovacao          47815 non-null object\n",
            "data_emprestimo         113181 non-null object\n",
            "data_devolucao          113152 non-null object\n",
            "nome_usuario            113181 non-null object\n",
            "id_vinculo_usuario      113181 non-null int64\n",
            "tipo_vinculo_usuario    113181 non-null object\n",
            "dtypes: int64(2), object(6)\n",
            "memory usage: 6.9+ MB\n"
          ],
          "name": "stdout"
        }
      ]
    },
    {
      "metadata": {
        "id": "IBfGDNNcLaMt",
        "colab_type": "text"
      },
      "cell_type": "markdown",
      "source": [
        "# 3.0  Explorando os dados"
      ]
    },
    {
      "metadata": {
        "id": "HLbhclInTlqH",
        "colab_type": "text"
      },
      "cell_type": "markdown",
      "source": [
        "## 3.1 Concatenando todos os empréstimos em um único DataFrame"
      ]
    },
    {
      "metadata": {
        "id": "R-75XCmhCCJ7",
        "colab_type": "code",
        "outputId": "44f6cad1-32c3-4068-ba83-4ab2f67cdccc",
        "colab": {
          "base_uri": "https://localhost:8080/",
          "height": 255
        }
      },
      "cell_type": "code",
      "source": [
        "# concatenando os DataFrames\n",
        "empres_dfs = [empres_2014_1, empres_2015_1, empres_2015_1, empres_2015_2, empres_2016_2, empres_2017_1, empres_2017_2]\n",
        "\n",
        "empres_total = pd.concat( empres_dfs,  ignore_index=True )\n",
        "empres_total.info()\n",
        "empres_total.shape"
      ],
      "execution_count": 13,
      "outputs": [
        {
          "output_type": "stream",
          "text": [
            "<class 'pandas.core.frame.DataFrame'>\n",
            "RangeIndex: 800991 entries, 0 to 800990\n",
            "Data columns (total 8 columns):\n",
            "id_emprestimo           800991 non-null int64\n",
            "codigo_barras           800991 non-null object\n",
            "data_renovacao          335724 non-null object\n",
            "data_emprestimo         800991 non-null object\n",
            "data_devolucao          800653 non-null object\n",
            "nome_usuario            800991 non-null object\n",
            "id_vinculo_usuario      800991 non-null int64\n",
            "tipo_vinculo_usuario    800991 non-null object\n",
            "dtypes: int64(2), object(6)\n",
            "memory usage: 48.9+ MB\n"
          ],
          "name": "stdout"
        },
        {
          "output_type": "execute_result",
          "data": {
            "text/plain": [
              "(800991, 8)"
            ]
          },
          "metadata": {
            "tags": []
          },
          "execution_count": 13
        }
      ]
    },
    {
      "metadata": {
        "id": "8vAM8P-K03C0",
        "colab_type": "code",
        "outputId": "49a6999a-94c0-4047-e13a-afa15d4f4387",
        "colab": {
          "base_uri": "https://localhost:8080/",
          "height": 68
        }
      },
      "cell_type": "code",
      "source": [
        "foi_renovado = empres_total['data_renovacao'].notna()\n",
        "\n",
        "total_de_emprestimos = foi_renovado.count()\n",
        "\n",
        "total_de_emprestimos_renovados = foi_renovado.sum()\n",
        "total_de_emprestimos_nao_renovados = total_de_emprestimos - total_de_emprestimos_renovados;\n",
        "\n",
        "print( \"Total de emprestimos\", total_de_emprestimos, sep=' = ')\n",
        "print( 'Porcentagem renovada', (total_de_emprestimos_renovados/total_de_emprestimos)*100, sep=' = ')\n",
        "print( 'Porcentagem não renovada', (total_de_emprestimos_nao_renovados/total_de_emprestimos)*100, sep=' = ')"
      ],
      "execution_count": 14,
      "outputs": [
        {
          "output_type": "stream",
          "text": [
            "Total de emprestimos = 800991\n",
            "Porcentagem renovada = 41.91357955332832\n",
            "Porcentagem não renovada = 58.08642044667168\n"
          ],
          "name": "stdout"
        }
      ]
    },
    {
      "metadata": {
        "id": "AadcmIRPLC16",
        "colab_type": "code",
        "outputId": "0245d0fe-86db-426a-e9e2-b2a265f41167",
        "colab": {
          "base_uri": "https://localhost:8080/",
          "height": 136
        }
      },
      "cell_type": "code",
      "source": [
        "tipo_vinculos = empres_total['tipo_vinculo_usuario'].value_counts().to_dict()\n",
        "tipo_vinculos"
      ],
      "execution_count": 15,
      "outputs": [
        {
          "output_type": "execute_result",
          "data": {
            "text/plain": [
              "{'ALUNO DE GRADUAÇÃO': 618269,\n",
              " 'ALUNO DE PÓS-GRADUAÇÃO': 118852,\n",
              " 'ALUNO MÉDIO/TÉCNICO': 13256,\n",
              " 'DOCENTE': 27049,\n",
              " 'DOCENTE EXTERNO': 10807,\n",
              " 'SERVIDOR TÉCNICO-ADMINISTRATIVO': 11597,\n",
              " 'USUÁRIO EXTERNO': 1161}"
            ]
          },
          "metadata": {
            "tags": []
          },
          "execution_count": 15
        }
      ]
    },
    {
      "metadata": {
        "id": "0xHjXbsNLnHM",
        "colab_type": "code",
        "outputId": "cb9e6c62-be94-4388-85d6-e7c1cf96c25d",
        "colab": {
          "base_uri": "https://localhost:8080/",
          "height": 778
        }
      },
      "cell_type": "code",
      "source": [
        "plt.rcParams['figure.figsize'] = (15,8)\n",
        "plt.bar(range(len(tipo_vinculos)), list(tipo_vinculos.values()), align='center')\n",
        "plt.xticks(range(len(tipo_vinculos)), list(tipo_vinculos.keys()))\n",
        "\n",
        "\n",
        "# putting name\n",
        "plt.title('Tipos de vinculos e seus números de emprestimos', fontsize=20)\n",
        "# customizing x ticks\n",
        "plt.xticks( fontsize=13,rotation=90)\n",
        "# name of the x \n",
        "plt.xlabel(\"Tipo de Vinculo\", fontsize=15)\n",
        "# name of the y\n",
        "plt.ylabel(\"Quantidade de emprestimos entre 2014.1 e 2017.2\", fontsize=15)\n",
        "plt.ylim( min(tipo_vinculos.values()), max(tipo_vinculos.values())+max(tipo_vinculos.values())//100 )\n",
        "\n",
        "plt.show()"
      ],
      "execution_count": 16,
      "outputs": [
        {
          "output_type": "display_data",
          "data": {
            "image/png": "[encoded data removed]",
            "text/plain": [
              "<matplotlib.figure.Figure at 0x7f9ab5438908>"
            ]
          },
          "metadata": {
            "tags": []
          }
        }
      ]
    },
    {
      "metadata": {
        "id": "g4-PKp0-T5xU",
        "colab_type": "text"
      },
      "cell_type": "markdown",
      "source": [
        "## 3.2 Explorando números sobre os Exemplares e Acervo"
      ]
    },
    {
      "metadata": {
        "id": "RnwPphgc7GRj",
        "colab_type": "code",
        "outputId": "6b3f1960-ea0f-48c6-bb77-afc67187931b",
        "colab": {
          "base_uri": "https://localhost:8080/",
          "height": 187
        }
      },
      "cell_type": "code",
      "source": [
        "# criando dicionario que relaciona registro de sistema e codigo de barras\n",
        "dicionario_reg_cod = exemplares.groupby('registro_sistema')['codigo_barras'].apply(list).to_dict()\n",
        "qtd_de_exemplares_por_reg = exemplares.groupby('registro_sistema')['codigo_barras'].value_counts()\n",
        "\n",
        "dicionario_reg_cod_total = {}\n",
        "for chave in dicionario_reg_cod.keys():\n",
        "  dicionario_reg_cod_total[chave] = qtd_de_exemplares_por_reg[chave].sum()\n",
        "\n",
        "list(dicionario_reg_cod_total.items())[:10]"
      ],
      "execution_count": 17,
      "outputs": [
        {
          "output_type": "execute_result",
          "data": {
            "text/plain": [
              "[(1, 3),\n",
              " (5, 1),\n",
              " (14, 1),\n",
              " (15, 1),\n",
              " (16, 1),\n",
              " (18, 2),\n",
              " (24, 1),\n",
              " (27, 1),\n",
              " (28, 1),\n",
              " (31, 1)]"
            ]
          },
          "metadata": {
            "tags": []
          },
          "execution_count": 17
        }
      ]
    },
    {
      "metadata": {
        "id": "jq8LDbbUFFr8",
        "colab_type": "code",
        "colab": {}
      },
      "cell_type": "code",
      "source": [
        "# verificando livros com mais exemplares\n",
        "dicionario_reg_total_sums = OrderedDict( sorted( dicionario_reg_cod_total.items(), reverse=True, key=lambda x: x[1] ) )"
      ],
      "execution_count": 0,
      "outputs": []
    },
    {
      "metadata": {
        "id": "OTF8oN32Ljw3",
        "colab_type": "code",
        "outputId": "1710159f-dd78-42ba-cc30-d74dab0af12f",
        "colab": {
          "base_uri": "https://localhost:8080/",
          "height": 204
        }
      },
      "cell_type": "code",
      "source": [
        "nomes_livros_mais_exemplares = []\n",
        "qtd_livros_mais_exemplares = []\n",
        "for registro in dicionario_reg_total_sums.keys():\n",
        "  nome = acervo_df.loc[acervo_df['registro_sistema'] == registro]['novo_titulo'].tolist()\n",
        "  if len(nome) > 0:\n",
        "    nomes_livros_mais_exemplares.append( nome[0] )\n",
        "    qtd_livros_mais_exemplares.append(dicionario_reg_total_sums[registro])\n",
        "\n",
        "print( \"Top 10 de livros com mais exemplares na biblioteca\" )\n",
        "for index in range( 10 ):\n",
        "  print( nomes_livros_mais_exemplares[index], qtd_livros_mais_exemplares[index], sep='=' )"
      ],
      "execution_count": 19,
      "outputs": [
        {
          "output_type": "stream",
          "text": [
            "Top 10 de livros com mais exemplares na biblioteca\n",
            "Física para cientistas e engenheiros=848\n",
            "Fundamentos de física=395\n",
            "Fundamentos de física=329\n",
            "Obras psicológicas completas de Sigmund Freud=239\n",
            "Cálculo=236\n",
            "Um curso de cálculo=235\n",
            "Fundamentos da programação de computadores :algoritmos, Pascal, CC++ e Java=217\n",
            "Cálculo=202\n",
            "Introdução à engenharia ambiental :[o desafio do desenvolvimento sustentável]=200\n",
            "Álgebra linear com aplicações=181\n"
          ],
          "name": "stdout"
        }
      ]
    },
    {
      "metadata": {
        "id": "e3LkpRkQvzdb",
        "colab_type": "code",
        "outputId": "4e15eade-a97c-4f12-c2e1-04525b0e0a2e",
        "colab": {
          "base_uri": "https://localhost:8080/",
          "height": 990
        }
      },
      "cell_type": "code",
      "source": [
        "nomes_livros = pd.Series( nomes_livros_mais_exemplares[:10] )\n",
        "qtd_livros = pd.Series( qtd_livros_mais_exemplares[:10] )\n",
        "\n",
        "# Plotando um gráfico para melhor vizualização\n",
        "fig, axis = plt.subplots(figsize=(14,8))\n",
        "\n",
        "barlist = plt.bar(nomes_livros, qtd_livros, color='g')\n",
        "\n",
        "# putting name\n",
        "plt.title('Livros com maior número de exemplares', fontsize=20)\n",
        "# customizing x ticks\n",
        "plt.xticks( fontsize=13,rotation=90)\n",
        "# name of the x \n",
        "plt.xlabel(\"Nomes dos Livros\", fontsize=15)\n",
        "# name of the y\n",
        "plt.ylabel(\"Quantidade de exemplares\", fontsize=15)\n",
        "plt.ylim( qtd_livros.min() , qtd_livros.max()+30 )\n",
        "\n",
        "# saving the graph on a picture\n",
        "plt.savefig(\"numeroExemplares.png\")\n",
        "plt.show()\n"
      ],
      "execution_count": 20,
      "outputs": [
        {
          "output_type": "display_data",
          "data": {
            "image/png": "[encoded data removed]",
            "text/plain": [
              "<matplotlib.figure.Figure at 0x7f9ab0edb0b8>"
            ]
          },
          "metadata": {
            "tags": []
          }
        }
      ]
    },
    {
      "metadata": {
        "id": "LwkeD9KE39Mi",
        "colab_type": "text"
      },
      "cell_type": "markdown",
      "source": [
        "## 3.3 Explorando os dados sobre Empréstimos entre 2014.1 e 2017.2 (exceto 2016.2)"
      ]
    },
    {
      "metadata": {
        "id": "3FxtVOyV0AbV",
        "colab_type": "text"
      },
      "cell_type": "markdown",
      "source": [
        "### 3.3.1 Usuários que mais realizaram empréstimos"
      ]
    },
    {
      "metadata": {
        "id": "13Wwj9zXKHa_",
        "colab_type": "code",
        "outputId": "464f61b0-dfd6-447d-889f-c4224b19b54d",
        "colab": {
          "base_uri": "https://localhost:8080/",
          "height": 204
        }
      },
      "cell_type": "code",
      "source": [
        "#verificando usuario que mais pediram emprestimos\n",
        "usuario_mais_emprestimos = empres_total['nome_usuario'].value_counts()\n",
        "# top 10 mais emprestimos\n",
        "usuario_mais_emprestimos[:10]"
      ],
      "execution_count": 21,
      "outputs": [
        {
          "output_type": "execute_result",
          "data": {
            "text/plain": [
              "FRANCISCO RICARDO DE SOUZA JUNIOR      428\n",
              "IKARO CAVALCANTE LIRA DE ARAUJO        379\n",
              "NATHALIA LINDSAY PEREIRA DE QUEIROZ    341\n",
              "ARTUR JEFFERSON FARIAS DA SILVA        329\n",
              "LARA VALESKA DE MEDEIROS ROCHA         327\n",
              "AGAMENON CLEMENTE DE MORAIS JUNIOR     295\n",
              "JOSIMARA TATIANE DA SILVA              276\n",
              "JEAN MARCEL BEZERRA FRANÇA             273\n",
              "WYSTERLÂNYO KAYO PEREIRA BARROS        271\n",
              "JAÍSIA LIMA DE MEDEIROS                260\n",
              "Name: nome_usuario, dtype: int64"
            ]
          },
          "metadata": {
            "tags": []
          },
          "execution_count": 21
        }
      ]
    },
    {
      "metadata": {
        "id": "vkik4xJX4IhU",
        "colab_type": "text"
      },
      "cell_type": "markdown",
      "source": [
        "## 3.4 Verificando quais livros foram mais emprestados"
      ]
    },
    {
      "metadata": {
        "id": "iL0kRDLQ4RE6",
        "colab_type": "text"
      },
      "cell_type": "markdown",
      "source": [
        "### 3.4.1 Mais emprestados, por exemplar"
      ]
    },
    {
      "metadata": {
        "id": "ZX_Ws-gLNBYJ",
        "colab_type": "code",
        "colab": {}
      },
      "cell_type": "code",
      "source": [
        "mais_emprestados = empres_total['codigo_barras'].value_counts().to_dict()\n",
        "\n",
        "# verificando exemplares mais emprestados\n",
        "dicionario_cod_mais_emprestados = OrderedDict( sorted( mais_emprestados.items(), reverse=True, key=lambda x: x[1] ) )\n",
        "\n",
        "lista_cod_mais_emprestados = list( dicionario_cod_mais_emprestados.keys() )[:1000]\n",
        "# dicionario com os numeros de registros do exemplares mais emprestados\n",
        "reg_mais_emprestados = OrderedDict()\n",
        "for chave in lista_cod_mais_emprestados:\n",
        "  lista_registro = exemplares.loc[ exemplares['codigo_barras'] == chave ]['registro_sistema'].values\n",
        "  if len(lista_registro) > 0:\n",
        "    reg_mais_emprestados[chave] = lista_registro[0]"
      ],
      "execution_count": 0,
      "outputs": []
    },
    {
      "metadata": {
        "id": "O2515MM6RvIY",
        "colab_type": "code",
        "outputId": "a16a47c2-5be5-4d9a-e1a7-7f42b86b5a78",
        "colab": {
          "base_uri": "https://localhost:8080/",
          "height": 187
        }
      },
      "cell_type": "code",
      "source": [
        "list(mais_emprestados.items())[:10]"
      ],
      "execution_count": 23,
      "outputs": [
        {
          "output_type": "execute_result",
          "data": {
            "text/plain": [
              "[('2015009066', 126),\n",
              " ('2010091988', 116),\n",
              " ('2009055616', 114),\n",
              " ('2013087915', 92),\n",
              " ('2013091436', 82),\n",
              " ('2014086298', 76),\n",
              " ('2014083405', 66),\n",
              " ('2013088582', 64),\n",
              " ('2013088640', 63),\n",
              " ('2013091426', 58)]"
            ]
          },
          "metadata": {
            "tags": []
          },
          "execution_count": 23
        }
      ]
    },
    {
      "metadata": {
        "id": "hOV65CSTOQr6",
        "colab_type": "code",
        "colab": {}
      },
      "cell_type": "code",
      "source": [
        "# pesquisa no dataset de acervo e captura o nome dos exemplares\n",
        "nome_mais_emprestados_por_codigo = OrderedDict()\n",
        "for chave in reg_mais_emprestados.keys():\n",
        "  nome = acervo_df.loc[ acervo_df['registro_sistema'] == reg_mais_emprestados[chave] ]['novo_titulo'].values\n",
        "  if len(nome) > 0:\n",
        "    nome_mais_emprestados_por_codigo[chave] = nome[0]"
      ],
      "execution_count": 0,
      "outputs": []
    },
    {
      "metadata": {
        "id": "yIborxSdcADq",
        "colab_type": "code",
        "outputId": "a2999ed8-2f35-41d7-d142-2748438615ec",
        "colab": {
          "base_uri": "https://localhost:8080/",
          "height": 204
        }
      },
      "cell_type": "code",
      "source": [
        "list(nome_mais_emprestados_por_codigo.items())[:10]"
      ],
      "execution_count": 25,
      "outputs": [
        {
          "output_type": "execute_result",
          "data": {
            "text/plain": [
              "[('2015009066', 'Atlas de anatomia humana'),\n",
              " ('2010091988', 'Histologia básica'),\n",
              " ('2009055616', 'Farmacologia integrada'),\n",
              " ('2013087915', 'Histologia básica'),\n",
              " ('2013091436', 'Atlas de anatomia humana'),\n",
              " ('2014086298',\n",
              "  'Histologia :texto e atlas, em correlação com a biologia celular e molecular'),\n",
              " ('2014083405', 'Tratado de fisiologia médica'),\n",
              " ('2013088582', 'Exame clínico'),\n",
              " ('2013088640', 'Anatomia orientada para a clínica'),\n",
              " ('2013091426', 'Tratado de fisiologia médica')]"
            ]
          },
          "metadata": {
            "tags": []
          },
          "execution_count": 25
        }
      ]
    },
    {
      "metadata": {
        "id": "cb50ajIn4Woz",
        "colab_type": "text"
      },
      "cell_type": "markdown",
      "source": [
        "### 3.4.2 Mais emprestados, por titulo"
      ]
    },
    {
      "metadata": {
        "id": "DWpPvqbyNCIy",
        "colab_type": "code",
        "colab": {}
      },
      "cell_type": "code",
      "source": [
        "mais_empres_titulo = OrderedDict()\n",
        "\n",
        "for chave in dicionario_reg_cod.keys():\n",
        "  mais_empres_titulo[chave] = 0\n",
        "  for codigo in dicionario_reg_cod[chave]:\n",
        "    if codigo in mais_emprestados:\n",
        "      mais_empres_titulo[chave] += mais_emprestados[codigo]\n",
        "\n",
        "sorted_mais_empres_titulo = OrderedDict( sorted( mais_empres_titulo.items(), reverse=True, key=lambda x: x[1] ) )\n",
        "lista_reg_mais_emprestados = list( sorted_mais_empres_titulo.keys() )[:11]\n",
        "lista_reg_mais_emprestados_qtd = list( sorted_mais_empres_titulo.values() )[:11]\n",
        "\n",
        "nome_mais_emprestados = OrderedDict()\n",
        "for chave in lista_reg_mais_emprestados:\n",
        "  nome = acervo_df.loc[ acervo_df['registro_sistema'] == chave ]['novo_titulo'].values\n",
        "  if len(nome) > 0:\n",
        "    nome_mais_emprestados[ chave ] = nome[0]"
      ],
      "execution_count": 0,
      "outputs": []
    },
    {
      "metadata": {
        "id": "-ZruJ34NmU-U",
        "colab_type": "code",
        "outputId": "eaa8ec98-cb59-453a-b706-17bbc966e336",
        "colab": {
          "base_uri": "https://localhost:8080/",
          "height": 187
        }
      },
      "cell_type": "code",
      "source": [
        "lista_nomes = []\n",
        "for chave in nome_mais_emprestados.keys():\n",
        "  lista_nomes.append( nome_mais_emprestados[chave] )\n",
        "lista_nomes"
      ],
      "execution_count": 27,
      "outputs": [
        {
          "output_type": "execute_result",
          "data": {
            "text/plain": [
              "['Fundamentos de física',\n",
              " 'Fundamentos de física',\n",
              " 'Cálculo',\n",
              " 'Cálculo',\n",
              " 'Física para cientistas e engenheiros',\n",
              " 'Um curso de cálculo',\n",
              " 'Histologia básica',\n",
              " 'Química :a ciência central',\n",
              " 'Álgebra linear com aplicações',\n",
              " 'Fundamentos da biologia celular']"
            ]
          },
          "metadata": {
            "tags": []
          },
          "execution_count": 27
        }
      ]
    },
    {
      "metadata": {
        "id": "DYStEiJ_jb5N",
        "colab_type": "code",
        "outputId": "d8ee281f-cdfd-47ba-b43a-61aba78c0d2f",
        "colab": {
          "base_uri": "https://localhost:8080/",
          "height": 741
        }
      },
      "cell_type": "code",
      "source": [
        "plt.rcParams['figure.figsize'] = (16,8)\n",
        "plt.bar(range(11), lista_reg_mais_emprestados_qtd, align='center')\n",
        "plt.xticks(range(11), lista_nomes)\n",
        "\n",
        "\n",
        "# putting name\n",
        "plt.title('Livros mais emprestados', fontsize=20)\n",
        "# customizing x ticks\n",
        "plt.xticks( fontsize=13,rotation=90)\n",
        "# name of the x \n",
        "plt.xlabel(\"Nome do Livro\", fontsize=15)\n",
        "# name of the y\n",
        "plt.ylabel(\"Quantidade de emprestimos entre 2014.1 e 2017.2\", fontsize=15)\n",
        "plt.ylim( min(lista_reg_mais_emprestados_qtd), max(lista_reg_mais_emprestados_qtd))\n",
        "\n",
        "plt.show()"
      ],
      "execution_count": 28,
      "outputs": [
        {
          "output_type": "display_data",
          "data": {
            "image/png": "[encoded data removed]",
            "text/plain": [
              "<matplotlib.figure.Figure at 0x7f9aaeae44a8>"
            ]
          },
          "metadata": {
            "tags": []
          }
        }
      ]
    }
  ]
}